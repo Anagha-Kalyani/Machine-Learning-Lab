{
 "cells": [
  {
   "cell_type": "code",
   "execution_count": 1,
   "id": "7dc9a846",
   "metadata": {},
   "outputs": [
    {
     "name": "stdout",
     "output_type": "stream",
     "text": [
      "[1, 1, 1, 1, 1, 0, 0, 0, 0, 0] [1, 1, 1, 0, 1, 0, 1, 0, 1, 1]\n"
     ]
    }
   ],
   "source": [
    "actual=[1 for i in range(5)]+[0 for i in range(5)]\n",
    "pred=[1 for i in range(3)]+[0,1,0,1,0]+[1 for i in range(2)]\n",
    "print(actual,pred)"
   ]
  },
  {
   "cell_type": "code",
   "execution_count": 2,
   "id": "9bf373a6",
   "metadata": {},
   "outputs": [],
   "source": [
    "from sklearn.metrics import confusion_matrix"
   ]
  },
  {
   "cell_type": "code",
   "execution_count": 3,
   "id": "afd1715c",
   "metadata": {},
   "outputs": [
    {
     "name": "stdout",
     "output_type": "stream",
     "text": [
      "2 3 1 4\n"
     ]
    }
   ],
   "source": [
    "tn,fp,fn,tp=confusion_matrix(actual,pred).ravel()\n",
    "print(tn,fp,fn,tp)"
   ]
  },
  {
   "cell_type": "code",
   "execution_count": 4,
   "id": "09aed13d",
   "metadata": {},
   "outputs": [],
   "source": [
    "def myacc():\n",
    "    return (tp+tn)/(tp+tn+fn+fp)\n",
    "def mysensitivity():\n",
    "    return tp/(tp+fn)\n",
    "def myspecificity():\n",
    "    return tn/(tn+fp)\n",
    "def myprecision():\n",
    "    return tp/(tp+fp)\n",
    "def myrecall():\n",
    "    return tp/(tp+fn)\n",
    "def myf1():\n",
    "    return 2*myprecision()*myrecall()/(myprecision()+myrecall())\n",
    "import numpy as np\n",
    "def mymcc():\n",
    "    return (tn*tp-fp+fn)/np.sqrt((tp+fp)*(tp+fn)*(tn+fp)*(tn+fn))\n",
    "def myconfmat():\n",
    "    return \"[[{} {}]\\n [{} {}]]\".format(tp,fp,fn,tn)"
   ]
  },
  {
   "cell_type": "code",
   "execution_count": 5,
   "id": "49504505",
   "metadata": {},
   "outputs": [
    {
     "name": "stdout",
     "output_type": "stream",
     "text": [
      "0.6 0.8 0.4 0.5714285714285714 0.8 0.6666666666666666 0.2618614682831909\n"
     ]
    }
   ],
   "source": [
    "print(myacc(),mysensitivity(),myspecificity(),myprecision(),myrecall(),myf1(),mymcc())"
   ]
  },
  {
   "cell_type": "code",
   "execution_count": 6,
   "id": "5eadb81f",
   "metadata": {},
   "outputs": [
    {
     "name": "stdout",
     "output_type": "stream",
     "text": [
      "[[4 3]\n",
      " [1 2]]\n"
     ]
    }
   ],
   "source": [
    "print(myconfmat())"
   ]
  },
  {
   "cell_type": "code",
   "execution_count": 7,
   "id": "028523e3",
   "metadata": {},
   "outputs": [
    {
     "name": "stdout",
     "output_type": "stream",
     "text": [
      "0.6 0.8 0.6666666666666666 0.5714285714285714 0.2182178902359924\n",
      "[[2 3]\n",
      " [1 4]]\n"
     ]
    }
   ],
   "source": [
    "from sklearn.metrics import accuracy_score,recall_score,f1_score,confusion_matrix,precision_score,matthews_corrcoef\n",
    "print(accuracy_score(actual,pred),recall_score(actual,pred),f1_score(actual,pred),precision_score(actual,pred),matthews_corrcoef(actual,pred))\n",
    "print(confusion_matrix(actual,pred))"
   ]
  },
  {
   "cell_type": "code",
   "execution_count": 8,
   "id": "6b9caf6c",
   "metadata": {},
   "outputs": [
    {
     "data": {
      "image/png": "[encoded data removed]",
      "text/plain": [
       "<Figure size 432x288 with 1 Axes>"
      ]
     },
     "metadata": {
      "needs_background": "light"
     },
     "output_type": "display_data"
    }
   ],
   "source": [
    "from sklearn.metrics import precision_recall_curve\n",
    "import matplotlib.pyplot as plt\n",
    "precision,recall,_ =precision_recall_curve(actual,pred)\n",
    "plt.step(recall,precision,color='g',where='post')\n",
    "plt.fill_between(recall,precision,color='g',step='post')\n",
    "plt.xlim([0.0,1.0])\n",
    "plt.ylim([0.0,1.0])\n",
    "plt.show()"
   ]
  },
  {
   "cell_type": "code",
   "execution_count": 9,
   "id": "0de2a7d2",
   "metadata": {},
   "outputs": [
    {
     "data": {
      "image/png": "[encoded data removed]",
      "text/plain": [
       "<Figure size 432x288 with 1 Axes>"
      ]
     },
     "metadata": {
      "needs_background": "light"
     },
     "output_type": "display_data"
    }
   ],
   "source": [
    "from sklearn.metrics import roc_auc_score, roc_curve\n",
    "fpr,tpr,_ =roc_curve(actual,pred)\n",
    "plt.plot(fpr,tpr,c=\"red\")\n",
    "plt.plot([0, 1], [0, 1], color='navy') #center line\n",
    "plt.xlim([0.0,1.0])\n",
    "plt.ylim([0.0,1.0])\n",
    "plt.show()"
   ]
  },
  {
   "cell_type": "code",
   "execution_count": 10,
   "id": "8dc0eb1b",
   "metadata": {},
   "outputs": [
    {
     "name": "stdout",
     "output_type": "stream",
     "text": [
      "Area under curve is:  0.6000000000000001\n"
     ]
    }
   ],
   "source": [
    "print(\"Area under curve is: \",roc_auc_score(actual,pred))"
   ]
  }
 ],
 "metadata": {
  "kernelspec": {
   "display_name": "Python 3 (ipykernel)",
   "language": "python",
   "name": "python3"
  },
  "language_info": {
   "codemirror_mode": {
    "name": "ipython",
    "version": 3
   },
   "file_extension": ".py",
   "mimetype": "text/x-python",
   "name": "python",
   "nbconvert_exporter": "python",
   "pygments_lexer": "ipython3",
   "version": "3.9.12"
  }
 },
 "nbformat": 4,
 "nbformat_minor": 5
}
