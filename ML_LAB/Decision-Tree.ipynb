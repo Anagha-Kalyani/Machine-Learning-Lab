{
 "cells": [
  {
   "cell_type": "code",
   "execution_count": 1,
   "id": "cd06c4d7",
   "metadata": {},
   "outputs": [
    {
     "name": "stdout",
     "output_type": "stream",
     "text": [
      "   Sepal_Length   Sepal_Width   Petal_Length   Petal_Width        Class\n",
      "0           5.1           3.5            1.4           0.2  Iris-setosa\n",
      "1           4.9           3.0            1.4           0.2  Iris-setosa\n"
     ]
    }
   ],
   "source": [
    "import pandas as pd\n",
    "df=pd.read_csv(\"iris.csv\")\n",
    "print(df.head(2))"
   ]
  },
  {
   "cell_type": "code",
   "execution_count": 2,
   "id": "73b3b532",
   "metadata": {},
   "outputs": [],
   "source": [
    "X=df.drop(['Class'],axis=1)\n",
    "Y=df['Class']"
   ]
  },
  {
   "cell_type": "code",
   "execution_count": 3,
   "id": "7b4f0e79",
   "metadata": {},
   "outputs": [],
   "source": [
    "from sklearn.model_selection import train_test_split\n",
    "X_train,X_test,Y_train,Y_test=train_test_split(X,Y,test_size=0.3,random_state=0)"
   ]
  },
  {
   "cell_type": "code",
   "execution_count": 4,
   "id": "54dd1850",
   "metadata": {},
   "outputs": [
    {
     "data": {
      "text/plain": [
       "DecisionTreeClassifier(criterion='entropy', random_state=0)"
      ]
     },
     "execution_count": 4,
     "metadata": {},
     "output_type": "execute_result"
    }
   ],
   "source": [
    "from sklearn.tree import DecisionTreeClassifier\n",
    "model=DecisionTreeClassifier(criterion=\"entropy\",random_state=0)\n",
    "model.fit(X_train,Y_train)"
   ]
  },
  {
   "cell_type": "code",
   "execution_count": 5,
   "id": "434ad5e7",
   "metadata": {},
   "outputs": [],
   "source": [
    "y_pred=model.predict(X_test)"
   ]
  },
  {
   "cell_type": "code",
   "execution_count": 6,
   "id": "2152d05e",
   "metadata": {},
   "outputs": [
    {
     "name": "stdout",
     "output_type": "stream",
     "text": [
      "Accuracy:  0.9777777777777777\n",
      "Precision:  0.9796296296296295\n",
      "Recall:  0.9777777777777777\n",
      "F1:  0.9779434092477569\n",
      "MCC:  0.9669271325552267\n",
      "Confusion matrix: \n",
      " [[16  0  0]\n",
      " [ 0 17  1]\n",
      " [ 0  0 11]]\n",
      "Classification report: \n",
      "                  precision    recall  f1-score   support\n",
      "\n",
      "    Iris-setosa       1.00      1.00      1.00        16\n",
      "Iris-versicolor       1.00      0.94      0.97        18\n",
      " Iris-virginica       0.92      1.00      0.96        11\n",
      "\n",
      "       accuracy                           0.98        45\n",
      "      macro avg       0.97      0.98      0.98        45\n",
      "   weighted avg       0.98      0.98      0.98        45\n",
      "\n"
     ]
    }
   ],
   "source": [
    "from sklearn.metrics import accuracy_score,precision_score,recall_score,f1_score\n",
    "from sklearn.metrics import confusion_matrix,matthews_corrcoef,classification_report\n",
    "print(\"Accuracy: \",accuracy_score(Y_test,y_pred))\n",
    "print(\"Precision: \",precision_score(Y_test,y_pred,average=\"weighted\"))\n",
    "print(\"Recall: \",recall_score(Y_test,y_pred,average=\"weighted\"))\n",
    "print(\"F1: \",f1_score(Y_test,y_pred,average=\"weighted\"))\n",
    "print(\"MCC: \",matthews_corrcoef(Y_test,y_pred))\n",
    "print(\"Confusion matrix: \\n\",confusion_matrix(Y_test,y_pred))\n",
    "print(\"Classification report: \\n\",classification_report(Y_test,y_pred))"
   ]
  },
  {
   "cell_type": "code",
   "execution_count": 7,
   "id": "3aa82d32",
   "metadata": {},
   "outputs": [
    {
     "data": {
      "text/plain": [
       "<AxesSubplot:>"
      ]
     },
     "execution_count": 7,
     "metadata": {},
     "output_type": "execute_result"
    },
    {
     "data": {
      "image/png": "[encoded data removed]",
      "text/plain": [
       "<Figure size 432x288 with 2 Axes>"
      ]
     },
     "metadata": {
      "needs_background": "light"
     },
     "output_type": "display_data"
    }
   ],
   "source": [
    "import seaborn as sns\n",
    "sns.heatmap(confusion_matrix(Y_test,y_pred),annot=True)"
   ]
  },
  {
   "cell_type": "code",
   "execution_count": 8,
   "id": "6e7864ab",
   "metadata": {},
   "outputs": [
    {
     "data": {
      "text/plain": [
       "[Text(0.4, 0.9, 'X[3] <= 0.75\\nentropy = 1.58\\nsamples = 105\\nvalue = [34, 32, 39]'),\n",
       " Text(0.3, 0.7, 'entropy = 0.0\\nsamples = 34\\nvalue = [34, 0, 0]'),\n",
       " Text(0.5, 0.7, 'X[2] <= 4.95\\nentropy = 0.993\\nsamples = 71\\nvalue = [0, 32, 39]'),\n",
       " Text(0.2, 0.5, 'X[3] <= 1.65\\nentropy = 0.431\\nsamples = 34\\nvalue = [0, 31, 3]'),\n",
       " Text(0.1, 0.3, 'entropy = 0.0\\nsamples = 30\\nvalue = [0, 30, 0]'),\n",
       " Text(0.3, 0.3, 'X[1] <= 3.1\\nentropy = 0.811\\nsamples = 4\\nvalue = [0, 1, 3]'),\n",
       " Text(0.2, 0.1, 'entropy = 0.0\\nsamples = 3\\nvalue = [0, 0, 3]'),\n",
       " Text(0.4, 0.1, 'entropy = 0.0\\nsamples = 1\\nvalue = [0, 1, 0]'),\n",
       " Text(0.8, 0.5, 'X[3] <= 1.75\\nentropy = 0.179\\nsamples = 37\\nvalue = [0, 1, 36]'),\n",
       " Text(0.7, 0.3, 'X[3] <= 1.65\\nentropy = 0.811\\nsamples = 4\\nvalue = [0, 1, 3]'),\n",
       " Text(0.6, 0.1, 'entropy = 0.0\\nsamples = 3\\nvalue = [0, 0, 3]'),\n",
       " Text(0.8, 0.1, 'entropy = 0.0\\nsamples = 1\\nvalue = [0, 1, 0]'),\n",
       " Text(0.9, 0.3, 'entropy = 0.0\\nsamples = 33\\nvalue = [0, 0, 33]')]"
      ]
     },
     "execution_count": 8,
     "metadata": {},
     "output_type": "execute_result"
    },
    {
     "data": {
      "image/png": "[encoded data removed]",
      "text/plain": [
       "<Figure size 432x288 with 1 Axes>"
      ]
     },
     "metadata": {
      "needs_background": "light"
     },
     "output_type": "display_data"
    }
   ],
   "source": [
    "from sklearn import tree\n",
    "tree.plot_tree(model)"
   ]
  },
  {
   "cell_type": "code",
   "execution_count": 9,
   "id": "c0599693",
   "metadata": {},
   "outputs": [
    {
     "data": {
      "text/plain": [
       "DecisionTreeClassifier(random_state=0)"
      ]
     },
     "execution_count": 9,
     "metadata": {},
     "output_type": "execute_result"
    }
   ],
   "source": [
    "model1=DecisionTreeClassifier(criterion=\"gini\",random_state=0)\n",
    "model1.fit(X_train,Y_train)"
   ]
  },
  {
   "cell_type": "code",
   "execution_count": 10,
   "id": "287075dc",
   "metadata": {},
   "outputs": [],
   "source": [
    "y_pred=model1.predict(X_test)"
   ]
  },
  {
   "cell_type": "code",
   "execution_count": 11,
   "id": "eb16dc49",
   "metadata": {},
   "outputs": [
    {
     "name": "stdout",
     "output_type": "stream",
     "text": [
      "Accuracy:  0.9777777777777777\n",
      "Precision:  0.9796296296296295\n",
      "Recall:  0.9777777777777777\n",
      "F1:  0.9779434092477569\n",
      "MCC:  0.9669271325552267\n",
      "Confusion matrix: \n",
      " [[16  0  0]\n",
      " [ 0 17  1]\n",
      " [ 0  0 11]]\n",
      "Classification report: \n",
      "                  precision    recall  f1-score   support\n",
      "\n",
      "    Iris-setosa       1.00      1.00      1.00        16\n",
      "Iris-versicolor       1.00      0.94      0.97        18\n",
      " Iris-virginica       0.92      1.00      0.96        11\n",
      "\n",
      "       accuracy                           0.98        45\n",
      "      macro avg       0.97      0.98      0.98        45\n",
      "   weighted avg       0.98      0.98      0.98        45\n",
      "\n"
     ]
    }
   ],
   "source": [
    "print(\"Accuracy: \",accuracy_score(Y_test,y_pred))\n",
    "print(\"Precision: \",precision_score(Y_test,y_pred,average=\"weighted\"))\n",
    "print(\"Recall: \",recall_score(Y_test,y_pred,average=\"weighted\"))\n",
    "print(\"F1: \",f1_score(Y_test,y_pred,average=\"weighted\"))\n",
    "print(\"MCC: \",matthews_corrcoef(Y_test,y_pred))\n",
    "print(\"Confusion matrix: \\n\",confusion_matrix(Y_test,y_pred))\n",
    "print(\"Classification report: \\n\",classification_report(Y_test,y_pred))"
   ]
  },
  {
   "cell_type": "code",
   "execution_count": 12,
   "id": "56490e98",
   "metadata": {},
   "outputs": [
    {
     "data": {
      "text/plain": [
       "<AxesSubplot:>"
      ]
     },
     "execution_count": 12,
     "metadata": {},
     "output_type": "execute_result"
    },
    {
     "data": {
      "image/png": "[encoded data removed]",
      "text/plain": [
       "<Figure size 432x288 with 2 Axes>"
      ]
     },
     "metadata": {
      "needs_background": "light"
     },
     "output_type": "display_data"
    }
   ],
   "source": [
    "sns.heatmap(confusion_matrix(Y_test,y_pred),annot=True)"
   ]
  },
  {
   "cell_type": "code",
   "execution_count": 13,
   "id": "2a97b88f",
   "metadata": {},
   "outputs": [
    {
     "data": {
      "text/plain": [
       "[Text(0.4, 0.9, 'X[3] <= 0.75\\ngini = 0.664\\nsamples = 105\\nvalue = [34, 32, 39]'),\n",
       " Text(0.3, 0.7, 'gini = 0.0\\nsamples = 34\\nvalue = [34, 0, 0]'),\n",
       " Text(0.5, 0.7, 'X[2] <= 4.95\\ngini = 0.495\\nsamples = 71\\nvalue = [0, 32, 39]'),\n",
       " Text(0.2, 0.5, 'X[3] <= 1.65\\ngini = 0.161\\nsamples = 34\\nvalue = [0, 31, 3]'),\n",
       " Text(0.1, 0.3, 'gini = 0.0\\nsamples = 30\\nvalue = [0, 30, 0]'),\n",
       " Text(0.3, 0.3, 'X[1] <= 3.1\\ngini = 0.375\\nsamples = 4\\nvalue = [0, 1, 3]'),\n",
       " Text(0.2, 0.1, 'gini = 0.0\\nsamples = 3\\nvalue = [0, 0, 3]'),\n",
       " Text(0.4, 0.1, 'gini = 0.0\\nsamples = 1\\nvalue = [0, 1, 0]'),\n",
       " Text(0.8, 0.5, 'X[3] <= 1.75\\ngini = 0.053\\nsamples = 37\\nvalue = [0, 1, 36]'),\n",
       " Text(0.7, 0.3, 'X[3] <= 1.65\\ngini = 0.375\\nsamples = 4\\nvalue = [0, 1, 3]'),\n",
       " Text(0.6, 0.1, 'gini = 0.0\\nsamples = 3\\nvalue = [0, 0, 3]'),\n",
       " Text(0.8, 0.1, 'gini = 0.0\\nsamples = 1\\nvalue = [0, 1, 0]'),\n",
       " Text(0.9, 0.3, 'gini = 0.0\\nsamples = 33\\nvalue = [0, 0, 33]')]"
      ]
     },
     "execution_count": 13,
     "metadata": {},
     "output_type": "execute_result"
    },
    {
     "data": {
      "image/png": "[encoded data removed]",
      "text/plain": [
       "<Figure size 432x288 with 1 Axes>"
      ]
     },
     "metadata": {
      "needs_background": "light"
     },
     "output_type": "display_data"
    }
   ],
   "source": [
    "tree.plot_tree(model1)"
   ]
  }
 ],
 "metadata": {
  "kernelspec": {
   "display_name": "Python 3 (ipykernel)",
   "language": "python",
   "name": "python3"
  },
  "language_info": {
   "codemirror_mode": {
    "name": "ipython",
    "version": 3
   },
   "file_extension": ".py",
   "mimetype": "text/x-python",
   "name": "python",
   "nbconvert_exporter": "python",
   "pygments_lexer": "ipython3",
   "version": "3.9.12"
  }
 },
 "nbformat": 4,
 "nbformat_minor": 5
}
